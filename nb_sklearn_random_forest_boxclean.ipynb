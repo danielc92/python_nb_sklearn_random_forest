{
 "cells": [
  {
   "cell_type": "markdown",
   "metadata": {},
   "source": [
    "# Random Forest Example using boxclean.csv"
   ]
  },
  {
   "cell_type": "code",
   "execution_count": 1,
   "metadata": {},
   "outputs": [
    {
     "name": "stderr",
     "output_type": "stream",
     "text": [
      "/Library/Frameworks/Python.framework/Versions/3.6/lib/python3.6/site-packages/sklearn/cross_validation.py:41: DeprecationWarning: This module was deprecated in version 0.18 in favor of the model_selection module into which all the refactored classes and functions are moved. Also note that the interface of the new CV iterators are different from that of this module. This module will be removed in 0.20.\n",
      "  \"This module will be removed in 0.20.\", DeprecationWarning)\n"
     ]
    }
   ],
   "source": [
    "from sklearn.datasets import load_iris\n",
    "from sklearn.ensemble import RandomForestClassifier\n",
    "from sklearn.cross_validation import train_test_split\n",
    "import pandas\n",
    "import numpy\n",
    "numpy.random.seed = 0"
   ]
  },
  {
   "cell_type": "markdown",
   "metadata": {},
   "source": [
    "### Import Data "
   ]
  },
  {
   "cell_type": "code",
   "execution_count": 2,
   "metadata": {},
   "outputs": [],
   "source": [
    "data = pandas.read_csv(\"/users/danielcorcoran/desktop/box_cleaned.csv\")"
   ]
  },
  {
   "cell_type": "code",
   "execution_count": 3,
   "metadata": {},
   "outputs": [
    {
     "data": {
      "text/plain": [
       "(2728, 25)"
      ]
     },
     "execution_count": 3,
     "metadata": {},
     "output_type": "execute_result"
    }
   ],
   "source": [
    "data.shape"
   ]
  },
  {
   "cell_type": "code",
   "execution_count": 4,
   "metadata": {},
   "outputs": [
    {
     "data": {
      "text/html": [
       "<div>\n",
       "<style scoped>\n",
       "    .dataframe tbody tr th:only-of-type {\n",
       "        vertical-align: middle;\n",
       "    }\n",
       "\n",
       "    .dataframe tbody tr th {\n",
       "        vertical-align: top;\n",
       "    }\n",
       "\n",
       "    .dataframe thead th {\n",
       "        text-align: right;\n",
       "    }\n",
       "</style>\n",
       "<table border=\"1\" class=\"dataframe\">\n",
       "  <thead>\n",
       "    <tr style=\"text-align: right;\">\n",
       "      <th></th>\n",
       "      <th>age_A</th>\n",
       "      <th>age_B</th>\n",
       "      <th>height_A</th>\n",
       "      <th>height_B</th>\n",
       "      <th>reach_A</th>\n",
       "      <th>reach_B</th>\n",
       "      <th>weight_A</th>\n",
       "      <th>weight_B</th>\n",
       "      <th>won_A</th>\n",
       "      <th>won_B</th>\n",
       "      <th>...</th>\n",
       "      <th>kos_B</th>\n",
       "      <th>result</th>\n",
       "      <th>age_diff</th>\n",
       "      <th>height_diff</th>\n",
       "      <th>reach_diff</th>\n",
       "      <th>weight_diff</th>\n",
       "      <th>kd_diff_A</th>\n",
       "      <th>kd_diff_B</th>\n",
       "      <th>stance_A_southpaw</th>\n",
       "      <th>stance_B_southpaw</th>\n",
       "    </tr>\n",
       "  </thead>\n",
       "  <tbody>\n",
       "    <tr>\n",
       "      <th>0</th>\n",
       "      <td>26.0</td>\n",
       "      <td>31.0</td>\n",
       "      <td>175.0</td>\n",
       "      <td>185.0</td>\n",
       "      <td>179.0</td>\n",
       "      <td>185.0</td>\n",
       "      <td>164.0</td>\n",
       "      <td>164.0</td>\n",
       "      <td>48</td>\n",
       "      <td>50</td>\n",
       "      <td>...</td>\n",
       "      <td>32.0</td>\n",
       "      <td>1</td>\n",
       "      <td>-5.0</td>\n",
       "      <td>-10.0</td>\n",
       "      <td>-6.0</td>\n",
       "      <td>0.0</td>\n",
       "      <td>47</td>\n",
       "      <td>48</td>\n",
       "      <td>0</td>\n",
       "      <td>0</td>\n",
       "    </tr>\n",
       "    <tr>\n",
       "      <th>1</th>\n",
       "      <td>25.0</td>\n",
       "      <td>29.0</td>\n",
       "      <td>175.0</td>\n",
       "      <td>174.0</td>\n",
       "      <td>179.0</td>\n",
       "      <td>180.0</td>\n",
       "      <td>155.0</td>\n",
       "      <td>155.0</td>\n",
       "      <td>46</td>\n",
       "      <td>31</td>\n",
       "      <td>...</td>\n",
       "      <td>19.0</td>\n",
       "      <td>1</td>\n",
       "      <td>-4.0</td>\n",
       "      <td>1.0</td>\n",
       "      <td>-1.0</td>\n",
       "      <td>0.0</td>\n",
       "      <td>45</td>\n",
       "      <td>28</td>\n",
       "      <td>0</td>\n",
       "      <td>0</td>\n",
       "    </tr>\n",
       "    <tr>\n",
       "      <th>2</th>\n",
       "      <td>23.0</td>\n",
       "      <td>31.0</td>\n",
       "      <td>175.0</td>\n",
       "      <td>175.0</td>\n",
       "      <td>179.0</td>\n",
       "      <td>188.0</td>\n",
       "      <td>155.0</td>\n",
       "      <td>155.0</td>\n",
       "      <td>43</td>\n",
       "      <td>19</td>\n",
       "      <td>...</td>\n",
       "      <td>12.0</td>\n",
       "      <td>1</td>\n",
       "      <td>-8.0</td>\n",
       "      <td>0.0</td>\n",
       "      <td>-9.0</td>\n",
       "      <td>0.0</td>\n",
       "      <td>42</td>\n",
       "      <td>18</td>\n",
       "      <td>0</td>\n",
       "      <td>0</td>\n",
       "    </tr>\n",
       "    <tr>\n",
       "      <th>3</th>\n",
       "      <td>21.0</td>\n",
       "      <td>40.0</td>\n",
       "      <td>175.0</td>\n",
       "      <td>174.0</td>\n",
       "      <td>179.0</td>\n",
       "      <td>180.0</td>\n",
       "      <td>154.0</td>\n",
       "      <td>154.0</td>\n",
       "      <td>39</td>\n",
       "      <td>46</td>\n",
       "      <td>...</td>\n",
       "      <td>39.0</td>\n",
       "      <td>1</td>\n",
       "      <td>-19.0</td>\n",
       "      <td>1.0</td>\n",
       "      <td>-1.0</td>\n",
       "      <td>0.0</td>\n",
       "      <td>39</td>\n",
       "      <td>39</td>\n",
       "      <td>0</td>\n",
       "      <td>0</td>\n",
       "    </tr>\n",
       "    <tr>\n",
       "      <th>4</th>\n",
       "      <td>21.0</td>\n",
       "      <td>32.0</td>\n",
       "      <td>175.0</td>\n",
       "      <td>180.0</td>\n",
       "      <td>179.0</td>\n",
       "      <td>188.0</td>\n",
       "      <td>154.0</td>\n",
       "      <td>154.0</td>\n",
       "      <td>38</td>\n",
       "      <td>33</td>\n",
       "      <td>...</td>\n",
       "      <td>28.0</td>\n",
       "      <td>1</td>\n",
       "      <td>-11.0</td>\n",
       "      <td>-5.0</td>\n",
       "      <td>-9.0</td>\n",
       "      <td>0.0</td>\n",
       "      <td>38</td>\n",
       "      <td>29</td>\n",
       "      <td>0</td>\n",
       "      <td>0</td>\n",
       "    </tr>\n",
       "  </tbody>\n",
       "</table>\n",
       "<p>5 rows × 25 columns</p>\n",
       "</div>"
      ],
      "text/plain": [
       "   age_A  age_B  height_A  height_B  reach_A  reach_B  weight_A  weight_B  \\\n",
       "0   26.0   31.0     175.0     185.0    179.0    185.0     164.0     164.0   \n",
       "1   25.0   29.0     175.0     174.0    179.0    180.0     155.0     155.0   \n",
       "2   23.0   31.0     175.0     175.0    179.0    188.0     155.0     155.0   \n",
       "3   21.0   40.0     175.0     174.0    179.0    180.0     154.0     154.0   \n",
       "4   21.0   32.0     175.0     180.0    179.0    188.0     154.0     154.0   \n",
       "\n",
       "   won_A  won_B        ...          kos_B  result  age_diff  height_diff  \\\n",
       "0     48     50        ...           32.0       1      -5.0        -10.0   \n",
       "1     46     31        ...           19.0       1      -4.0          1.0   \n",
       "2     43     19        ...           12.0       1      -8.0          0.0   \n",
       "3     39     46        ...           39.0       1     -19.0          1.0   \n",
       "4     38     33        ...           28.0       1     -11.0         -5.0   \n",
       "\n",
       "   reach_diff  weight_diff  kd_diff_A  kd_diff_B  stance_A_southpaw  \\\n",
       "0        -6.0          0.0         47         48                  0   \n",
       "1        -1.0          0.0         45         28                  0   \n",
       "2        -9.0          0.0         42         18                  0   \n",
       "3        -1.0          0.0         39         39                  0   \n",
       "4        -9.0          0.0         38         29                  0   \n",
       "\n",
       "   stance_B_southpaw  \n",
       "0                  0  \n",
       "1                  0  \n",
       "2                  0  \n",
       "3                  0  \n",
       "4                  0  \n",
       "\n",
       "[5 rows x 25 columns]"
      ]
     },
     "execution_count": 4,
     "metadata": {},
     "output_type": "execute_result"
    }
   ],
   "source": [
    "data.head()"
   ]
  },
  {
   "cell_type": "code",
   "execution_count": 5,
   "metadata": {},
   "outputs": [],
   "source": [
    "X = data[['height_B',\n",
    " 'reach_A',\n",
    " 'won_B',\n",
    " 'lost_A',\n",
    " 'lost_B',\n",
    " 'drawn_A',\n",
    " 'kos_B',\n",
    " 'age_diff',\n",
    " 'kd_diff_A',\n",
    " 'kd_diff_B',\n",
    " 'stance_A_southpaw',\n",
    " 'stance_B_southpaw']]\n",
    "\n",
    "y  = data[\"result\"]"
   ]
  },
  {
   "cell_type": "markdown",
   "metadata": {},
   "source": [
    "### Split dataset into training and testing sets "
   ]
  },
  {
   "cell_type": "code",
   "execution_count": 6,
   "metadata": {},
   "outputs": [],
   "source": [
    "Xtrain, Xtest, ytrain, ytest = train_test_split(X,\n",
    "                                                y,\n",
    "                                               random_state = 42)"
   ]
  },
  {
   "cell_type": "code",
   "execution_count": 7,
   "metadata": {},
   "outputs": [
    {
     "data": {
      "text/plain": [
       "(682,)"
      ]
     },
     "execution_count": 7,
     "metadata": {},
     "output_type": "execute_result"
    }
   ],
   "source": [
    "ytest.shape"
   ]
  },
  {
   "cell_type": "markdown",
   "metadata": {},
   "source": [
    "### Instantiate model using randomforestclassifier object"
   ]
  },
  {
   "cell_type": "code",
   "execution_count": 8,
   "metadata": {},
   "outputs": [],
   "source": [
    "clf = RandomForestClassifier(n_estimators = 100,\n",
    "                             n_jobs = 2,\n",
    "                            random_state = 0)"
   ]
  },
  {
   "cell_type": "markdown",
   "metadata": {},
   "source": [
    "### Fit model to training data"
   ]
  },
  {
   "cell_type": "code",
   "execution_count": 9,
   "metadata": {},
   "outputs": [
    {
     "data": {
      "text/plain": [
       "RandomForestClassifier(bootstrap=True, class_weight=None, criterion='gini',\n",
       "            max_depth=None, max_features='auto', max_leaf_nodes=None,\n",
       "            min_impurity_decrease=0.0, min_impurity_split=None,\n",
       "            min_samples_leaf=1, min_samples_split=2,\n",
       "            min_weight_fraction_leaf=0.0, n_estimators=100, n_jobs=2,\n",
       "            oob_score=False, random_state=0, verbose=0, warm_start=False)"
      ]
     },
     "execution_count": 9,
     "metadata": {},
     "output_type": "execute_result"
    }
   ],
   "source": [
    "clf.fit(Xtrain, ytrain)"
   ]
  },
  {
   "cell_type": "markdown",
   "metadata": {},
   "source": [
    "### Predict against Xtest set using model"
   ]
  },
  {
   "cell_type": "code",
   "execution_count": 10,
   "metadata": {},
   "outputs": [],
   "source": [
    "prediction = clf.predict(Xtest)"
   ]
  },
  {
   "cell_type": "markdown",
   "metadata": {},
   "source": [
    "### Show Accuracy Score"
   ]
  },
  {
   "cell_type": "code",
   "execution_count": 11,
   "metadata": {},
   "outputs": [],
   "source": [
    "from sklearn.metrics import accuracy_score"
   ]
  },
  {
   "cell_type": "code",
   "execution_count": 12,
   "metadata": {},
   "outputs": [
    {
     "data": {
      "text/plain": [
       "0.8695014662756598"
      ]
     },
     "execution_count": 12,
     "metadata": {},
     "output_type": "execute_result"
    }
   ],
   "source": [
    "accuracy_score(prediction, ytest)"
   ]
  },
  {
   "cell_type": "code",
   "execution_count": 13,
   "metadata": {},
   "outputs": [
    {
     "data": {
      "text/html": [
       "<div>\n",
       "<style scoped>\n",
       "    .dataframe tbody tr th:only-of-type {\n",
       "        vertical-align: middle;\n",
       "    }\n",
       "\n",
       "    .dataframe tbody tr th {\n",
       "        vertical-align: top;\n",
       "    }\n",
       "\n",
       "    .dataframe thead th {\n",
       "        text-align: right;\n",
       "    }\n",
       "</style>\n",
       "<table border=\"1\" class=\"dataframe\">\n",
       "  <thead>\n",
       "    <tr style=\"text-align: right;\">\n",
       "      <th></th>\n",
       "      <th>age_A</th>\n",
       "      <th>age_B</th>\n",
       "      <th>height_A</th>\n",
       "      <th>height_B</th>\n",
       "      <th>reach_A</th>\n",
       "      <th>reach_B</th>\n",
       "      <th>weight_A</th>\n",
       "      <th>weight_B</th>\n",
       "      <th>won_A</th>\n",
       "      <th>won_B</th>\n",
       "      <th>...</th>\n",
       "      <th>kos_B</th>\n",
       "      <th>result</th>\n",
       "      <th>age_diff</th>\n",
       "      <th>height_diff</th>\n",
       "      <th>reach_diff</th>\n",
       "      <th>weight_diff</th>\n",
       "      <th>kd_diff_A</th>\n",
       "      <th>kd_diff_B</th>\n",
       "      <th>stance_A_southpaw</th>\n",
       "      <th>stance_B_southpaw</th>\n",
       "    </tr>\n",
       "  </thead>\n",
       "  <tbody>\n",
       "    <tr>\n",
       "      <th>0</th>\n",
       "      <td>26.0</td>\n",
       "      <td>31.0</td>\n",
       "      <td>175.0</td>\n",
       "      <td>185.0</td>\n",
       "      <td>179.0</td>\n",
       "      <td>185.0</td>\n",
       "      <td>164.0</td>\n",
       "      <td>164.0</td>\n",
       "      <td>48</td>\n",
       "      <td>50</td>\n",
       "      <td>...</td>\n",
       "      <td>32.0</td>\n",
       "      <td>1</td>\n",
       "      <td>-5.0</td>\n",
       "      <td>-10.0</td>\n",
       "      <td>-6.0</td>\n",
       "      <td>0.0</td>\n",
       "      <td>47</td>\n",
       "      <td>48</td>\n",
       "      <td>0</td>\n",
       "      <td>0</td>\n",
       "    </tr>\n",
       "    <tr>\n",
       "      <th>1</th>\n",
       "      <td>25.0</td>\n",
       "      <td>29.0</td>\n",
       "      <td>175.0</td>\n",
       "      <td>174.0</td>\n",
       "      <td>179.0</td>\n",
       "      <td>180.0</td>\n",
       "      <td>155.0</td>\n",
       "      <td>155.0</td>\n",
       "      <td>46</td>\n",
       "      <td>31</td>\n",
       "      <td>...</td>\n",
       "      <td>19.0</td>\n",
       "      <td>1</td>\n",
       "      <td>-4.0</td>\n",
       "      <td>1.0</td>\n",
       "      <td>-1.0</td>\n",
       "      <td>0.0</td>\n",
       "      <td>45</td>\n",
       "      <td>28</td>\n",
       "      <td>0</td>\n",
       "      <td>0</td>\n",
       "    </tr>\n",
       "    <tr>\n",
       "      <th>2</th>\n",
       "      <td>23.0</td>\n",
       "      <td>31.0</td>\n",
       "      <td>175.0</td>\n",
       "      <td>175.0</td>\n",
       "      <td>179.0</td>\n",
       "      <td>188.0</td>\n",
       "      <td>155.0</td>\n",
       "      <td>155.0</td>\n",
       "      <td>43</td>\n",
       "      <td>19</td>\n",
       "      <td>...</td>\n",
       "      <td>12.0</td>\n",
       "      <td>1</td>\n",
       "      <td>-8.0</td>\n",
       "      <td>0.0</td>\n",
       "      <td>-9.0</td>\n",
       "      <td>0.0</td>\n",
       "      <td>42</td>\n",
       "      <td>18</td>\n",
       "      <td>0</td>\n",
       "      <td>0</td>\n",
       "    </tr>\n",
       "  </tbody>\n",
       "</table>\n",
       "<p>3 rows × 25 columns</p>\n",
       "</div>"
      ],
      "text/plain": [
       "   age_A  age_B  height_A  height_B  reach_A  reach_B  weight_A  weight_B  \\\n",
       "0   26.0   31.0     175.0     185.0    179.0    185.0     164.0     164.0   \n",
       "1   25.0   29.0     175.0     174.0    179.0    180.0     155.0     155.0   \n",
       "2   23.0   31.0     175.0     175.0    179.0    188.0     155.0     155.0   \n",
       "\n",
       "   won_A  won_B        ...          kos_B  result  age_diff  height_diff  \\\n",
       "0     48     50        ...           32.0       1      -5.0        -10.0   \n",
       "1     46     31        ...           19.0       1      -4.0          1.0   \n",
       "2     43     19        ...           12.0       1      -8.0          0.0   \n",
       "\n",
       "   reach_diff  weight_diff  kd_diff_A  kd_diff_B  stance_A_southpaw  \\\n",
       "0        -6.0          0.0         47         48                  0   \n",
       "1        -1.0          0.0         45         28                  0   \n",
       "2        -9.0          0.0         42         18                  0   \n",
       "\n",
       "   stance_B_southpaw  \n",
       "0                  0  \n",
       "1                  0  \n",
       "2                  0  \n",
       "\n",
       "[3 rows x 25 columns]"
      ]
     },
     "execution_count": 13,
     "metadata": {},
     "output_type": "execute_result"
    }
   ],
   "source": [
    "data.head(3)"
   ]
  }
 ],
 "metadata": {
  "kernelspec": {
   "display_name": "Python 3",
   "language": "python",
   "name": "python3"
  },
  "language_info": {
   "codemirror_mode": {
    "name": "ipython",
    "version": 3
   },
   "file_extension": ".py",
   "mimetype": "text/x-python",
   "name": "python",
   "nbconvert_exporter": "python",
   "pygments_lexer": "ipython3",
   "version": "3.6.5"
  },
  "toc": {
   "base_numbering": 1,
   "nav_menu": {},
   "number_sections": true,
   "sideBar": true,
   "skip_h1_title": false,
   "title_cell": "Table of Contents",
   "title_sidebar": "Contents",
   "toc_cell": false,
   "toc_position": {},
   "toc_section_display": true,
   "toc_window_display": false
  },
  "varInspector": {
   "cols": {
    "lenName": 16,
    "lenType": 16,
    "lenVar": 40
   },
   "kernels_config": {
    "python": {
     "delete_cmd_postfix": "",
     "delete_cmd_prefix": "del ",
     "library": "var_list.py",
     "varRefreshCmd": "print(var_dic_list())"
    },
    "r": {
     "delete_cmd_postfix": ") ",
     "delete_cmd_prefix": "rm(",
     "library": "var_list.r",
     "varRefreshCmd": "cat(var_dic_list()) "
    }
   },
   "types_to_exclude": [
    "module",
    "function",
    "builtin_function_or_method",
    "instance",
    "_Feature"
   ],
   "window_display": false
  }
 },
 "nbformat": 4,
 "nbformat_minor": 2
}
